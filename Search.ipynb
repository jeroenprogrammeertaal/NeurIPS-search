{
 "cells": [
  {
   "cell_type": "code",
   "execution_count": 1,
   "metadata": {},
   "outputs": [
    {
     "data": {
      "application/javascript": [
       "IPython.OutputArea.prototype._should_scroll = function(lines) {\n",
       "    return false;\n",
       "}\n"
      ],
      "text/plain": [
       "<IPython.core.display.Javascript object>"
      ]
     },
     "metadata": {},
     "output_type": "display_data"
    }
   ],
   "source": [
    "%%javascript\n",
    "IPython.OutputArea.prototype._should_scroll = function(lines) {\n",
    "    return false;\n",
    "}"
   ]
  },
  {
   "cell_type": "code",
   "execution_count": 2,
   "metadata": {},
   "outputs": [
    {
     "data": {
      "text/html": [
       "<style>\n",
       "table,td,tr,th {border:none!important}\n",
       "</style>\n"
      ],
      "text/plain": [
       "<IPython.core.display.HTML object>"
      ]
     },
     "metadata": {},
     "output_type": "display_data"
    }
   ],
   "source": [
    "%%html\n",
    "<style>\n",
    "table,td,tr,th {border:none!important}\n",
    "</style>"
   ]
  },
  {
   "cell_type": "code",
   "execution_count": 1,
   "metadata": {},
   "outputs": [],
   "source": [
    "import matplotlib.pyplot as plt\n",
    "from elasticsearch import Elasticsearch\n",
    "from elasticsearch import helpers\n",
    "import ipywidgets as widgets\n",
    "from ipywidgets import interact, interact_manual, GridspecLayout, Layout\n",
    "from IPython.display import display, Image, HTML\n",
    "import insert_data\n",
    "import present_results\n",
    "import search_functions\n",
    "import nltk.data\n",
    "\n",
    "HOST = 'http://localhost:9200/'\n",
    "es = Elasticsearch(hosts=[HOST])\n",
    "sent_detector = nltk.data.load('tokenizers/punkt/english.pickle')"
   ]
  },
  {
   "cell_type": "code",
   "execution_count": 6,
   "metadata": {
    "scrolled": true
   },
   "outputs": [
    {
     "data": {
      "text/html": [
       "<script>\n",
       "code_show=true; \n",
       "function code_toggle() {\n",
       " if (code_show){\n",
       " $('div.input').hide();\n",
       " } else {\n",
       " $('div.input').show();\n",
       " }\n",
       " code_show = !code_show\n",
       "} \n",
       "$( document ).ready(code_toggle);\n",
       "</script>\n",
       "<form action=\"javascript:code_toggle()\"><input type=\"submit\" value=\"Click here to toggle on/off the raw code.\"></form>"
      ],
      "text/plain": [
       "<IPython.core.display.HTML object>"
      ]
     },
     "execution_count": 6,
     "metadata": {},
     "output_type": "execute_result"
    }
   ],
   "source": [
    "HTML('''<script>\n",
    "code_show=true; \n",
    "function code_toggle() {\n",
    " if (code_show){\n",
    " $('div.input').hide();\n",
    " } else {\n",
    " $('div.input').show();\n",
    " }\n",
    " code_show = !code_show\n",
    "} \n",
    "$( document ).ready(code_toggle);\n",
    "</script>\n",
    "<form action=\"javascript:code_toggle()\"><input type=\"submit\" value=\"Click here to toggle on/off the raw code.\"></form>''')"
   ]
  },
  {
   "cell_type": "code",
   "execution_count": 5,
   "metadata": {},
   "outputs": [],
   "source": [
    "logo = present_results.generate_logo('logo.png')\n",
    "filters = present_results.generate_button('Submit')\n",
    "expert_mode = present_results.generate_checkbox('expert_mode')\n",
    "authors = present_results.generate_textbox('authors')\n",
    "title = present_results.generate_textbox('title')\n",
    "abstract = present_results.generate_textbox('abstract')\n",
    "paper_text = present_results.generate_textbox('paper text')\n",
    "year_slider = present_results.generate_slider('year range',(1987, 2018, 1))\n",
    "main_search = present_results.generate_textbox('', 'Search for papers')"
   ]
  },
  {
   "cell_type": "code",
   "execution_count": 6,
   "metadata": {
    "scrolled": false
   },
   "outputs": [
    {
     "data": {
      "application/vnd.jupyter.widget-view+json": {
       "model_id": "f00ff13660654b0a9ac4dcddc8d8d146",
       "version_major": 2,
       "version_minor": 0
      },
      "text/plain": [
       "GridspecLayout(children=(Image(value=b'\\x89PNG\\r\\n\\x1a\\n\\x00\\x00\\x00\\rIHDR\\x00\\x00\\x03\\xf7\\x00\\x00\\x03\\xca\\x08…"
      ]
     },
     "metadata": {},
     "output_type": "display_data"
    },
    {
     "data": {
      "application/vnd.jupyter.widget-view+json": {
       "model_id": "734111fd113c486c8ade034fd91cf11c",
       "version_major": 2,
       "version_minor": 0
      },
      "text/plain": [
       "Output()"
      ]
     },
     "metadata": {},
     "output_type": "display_data"
    },
    {
     "data": {
      "image/png": "[encoded data removed]",
      "text/plain": [
       "<Figure size 432x288 with 1 Axes>"
      ]
     },
     "metadata": {
      "needs_background": "light"
     },
     "output_type": "display_data"
    }
   ],
   "source": [
    "output_mainsearch = widgets.Text()\n",
    "output_Authors = widgets.Text()\n",
    "output_Title = widgets.Text()\n",
    "output_Abstract = widgets.Text()\n",
    "output_Paper_text = widgets.Text()\n",
    "output_Year = widgets.SelectionRangeSlider(options = [i for i in range(1987,2018,1)])\n",
    "\n",
    "out = widgets.Output()\n",
    "@out.capture(clear_output=True,wait=True)\n",
    "def submit_search(sender):\n",
    "    output_mainsearch.value = main_search.value\n",
    "    output_Authors.value = authors.value\n",
    "    output_Abstract.value = abstract.value\n",
    "    output_Title.value = title.value\n",
    "    output_Paper_text.value = paper_text.value\n",
    "    output_Year.value = year_slider.value\n",
    "    if output_mainsearch.value == '':\n",
    "        pass\n",
    "    else:\n",
    "        present_results.print_results(es, sent_detector, output_mainsearch.value, \n",
    "                                      [output_Authors.value, output_Title.value, \n",
    "                                       output_Abstract.value, output_Paper_text.value], \n",
    "                                      years=output_Year.value, complex_search=expert_mode.value)\n",
    "\n",
    "@out.capture(clear_output=True,wait=True)\n",
    "def filter_search(sender):\n",
    "    output_mainsearch.value = main_search.value\n",
    "    output_Authors.value = authors.value\n",
    "    output_Abstract.value = abstract.value\n",
    "    output_Title.value = title.value\n",
    "    output_Paper_text.value = paper_text.value\n",
    "    output_Year.value = year_slider.value\n",
    "    present_results.print_results(es, sent_detector, output_mainsearch.value, \n",
    "                                  [output_Authors.value, output_Title.value, \n",
    "                                   output_Abstract.value, output_Paper_text.value], \n",
    "                                  years=output_Year.value, complex_search=expert_mode.value)\n",
    "    \n",
    "main_search.on_submit(submit_search)\n",
    "filters.on_click(filter_search)\n",
    "title.on_submit(filter_search)\n",
    "authors.on_submit(filter_search)\n",
    "abstract.on_submit(filter_search)\n",
    "paper_text.on_submit(filter_search)\n",
    "\n",
    "grid = GridspecLayout(7, 6)\n",
    "grid[1, 0] = logo\n",
    "grid[1, 2] = main_search\n",
    "grid[1, 3] = expert_mode\n",
    "grid[1, 4] = authors\n",
    "grid[2, 4] = title\n",
    "grid[3, 4] = abstract\n",
    "grid[4, 4] = paper_text\n",
    "grid[5, 4] = year_slider\n",
    "grid[6, 4] = filters\n",
    "display(grid, out)"
   ]
  },
  {
   "cell_type": "code",
   "execution_count": null,
   "metadata": {},
   "outputs": [],
   "source": []
  },
  {
   "cell_type": "code",
   "execution_count": null,
   "metadata": {},
   "outputs": [],
   "source": []
  }
 ],
 "metadata": {
  "kernelspec": {
   "display_name": "Python 3",
   "language": "python",
   "name": "python3"
  },
  "language_info": {
   "codemirror_mode": {
    "name": "ipython",
    "version": 3
   },
   "file_extension": ".py",
   "mimetype": "text/x-python",
   "name": "python",
   "nbconvert_exporter": "python",
   "pygments_lexer": "ipython3",
   "version": "3.7.2"
  }
 },
 "nbformat": 4,
 "nbformat_minor": 2
}
